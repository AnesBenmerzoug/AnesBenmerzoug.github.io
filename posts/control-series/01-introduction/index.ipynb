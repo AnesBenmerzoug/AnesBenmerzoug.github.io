{
 "cells": [
  {
   "cell_type": "raw",
   "metadata": {
    "vscode": {
     "languageId": "raw"
    }
   },
   "source": [
    "---\n",
    "date: 2024-09-13\n",
    "title: \"System: Stewart Platform\"\n",
    "keywords: [\n",
    "    \"Stewart Platform\",\n",
    "    \"Control\", \n",
    "    \"System\",\n",
    "    \"MuJoCo\",\n",
    "    \"Gymnasium\"\n",
    "]\n",
    "license: \"CC BY\"\n",
    "execute: \n",
    "  cache: true\n",
    "---"
   ]
  },
  {
   "cell_type": "markdown",
   "metadata": {},
   "source": [
    "In this first post of the Control series, we will introduce the system that we want to control as well as the different control\n",
    "objectives. We will then model it in [MuJoCo](https://mujoco.org/) and make sure it works as expected.\n"
   ]
  },
  {
   "cell_type": "markdown",
   "metadata": {},
   "source": [
    "# Stewart Platform\n",
    "\n",
    "According to [Wikipedia](https://en.wikipedia.org/w/index.php?title=Stewart_platform&oldid=1230138190)\n",
    "\n",
    "> A Stewart platform is a type of parallel manipulator that has six prismatic actuators, \n",
    "> commonly hydraulic jacks or electric linear actuators, attached in pairs to three positions on the platform's baseplate,\n",
    "> crossing over to three mounting points on a top plate. All 12 connections are made via universal joints.\n",
    "> Devices placed on the top plate can be moved in the six degrees of freedom in which it is possible\n",
    "> for a freely-suspended body to move: three linear movements x, y, z (lateral, longitudinal, and vertical),\n",
    "> and the three rotations (pitch, roll, and yaw). \n",
    "\n",
    "<figure>\n",
    "    <img src=\"https://upload.wikimedia.org/wikipedia/commons/a/a7/Hexapod_general_Anim.gif\">\n",
    "    <figcaption>An example of a Stewart platform. <i>Taken from Wikipedia</i></figcaption>\n",
    "</figure>"
   ]
  },
  {
   "cell_type": "code",
   "execution_count": null,
   "metadata": {},
   "outputs": [],
   "source": [
    "\n"
   ]
  },
  {
   "cell_type": "markdown",
   "metadata": {},
   "source": [
    "# MuJoCo\n"
   ]
  },
  {
   "cell_type": "markdown",
   "metadata": {},
   "source": [
    "# Gymnasium\n"
   ]
  }
 ],
 "metadata": {
  "kernelspec": {
   "display_name": "anesbenmerzoug-github-io-lPtqCeqo-py3.11",
   "language": "python",
   "name": "python3"
  },
  "language_info": {
   "name": "python",
   "version": "3.11.7"
  }
 },
 "nbformat": 4,
 "nbformat_minor": 2
}

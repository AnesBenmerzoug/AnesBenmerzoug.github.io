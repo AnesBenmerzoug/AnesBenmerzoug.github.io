{
 "cells": [
  {
   "cell_type": "raw",
   "metadata": {
    "vscode": {
     "languageId": "raw"
    }
   },
   "source": [
    "---\n",
    "date: 2024-12-11\n",
    "title: \"Using an LLM for information extraction\"\n",
    "keywords: [\n",
    "    \"Enron email dataset\",\n",
    "    \"Information extraction\",\n",
    "    \"LLM\",\n",
    "    \"NLP\",\n",
    "    \"llama.cpp\",\n",
    "    \"Pydantic\"\n",
    "]\n",
    "license: \"CC BY\"\n",
    "format:\n",
    "  html:\n",
    "    code-fold: true\n",
    "    code-tools: true\n",
    "    code-overflow: wrap\n",
    "execute: \n",
    "  cache: true\n",
    "---"
   ]
  },
  {
   "cell_type": "markdown",
   "metadata": {},
   "source": [
    "In this post we will see how to use a local LLM to extract structured information from emails.\n",
    "\n",
    "When I joined appliedAI Initiative in 2021, my first project involved using AI to extract information from emails for a company that develops a document management system. At that time, LLMs were not as advanced as they are today, so we decided to train a custom model from scratch. However, we faced challenges, particularly because we did not have labeled data, and due to privacy restrictions, we couldn't use the company's customer data. As a result, we resorted to manually labeling emails from the [Enron dataset](https://www.cs.cmu.edu/~enron/)[^enron].\n",
    "\n",
    "[^enron]: Enron Corporation was an American energy, commodities, and services that went bankrupt in 2001 after ascandal involving a corporate fraud case. The Enron Email Dataset, containing 500,000 internal emails, provides valuable insights into the company’s operations and is widely used for research in text mining and network analysis.\n",
    "\n",
    "Unfortunately, our approach yielded suboptimal results for several reasons, such as the mismatch between the Enron dataset and the actual customer emails and the lack of labeled training data. Today, however, extracting information from emails has become simpler than ever, and in this post, I want to demonstrate the improvements we can achieve with using LLMs."
   ]
  },
  {
   "cell_type": "code",
   "execution_count": 1,
   "metadata": {},
   "outputs": [],
   "source": [
    "# | echo: false\n",
    "\n",
    "import random\n",
    "import yaml\n",
    "from datetime import datetime\n",
    "from difflib import SequenceMatcher\n",
    "from email.parser import Parser\n",
    "from functools import partial\n",
    "from statistics import fmean\n",
    "from typing import Any, Callable, Literal\n",
    "\n",
    "import numpy as np\n",
    "import pandas as pd\n",
    "import seaborn as sns\n",
    "from llama_cpp import Llama\n",
    "from pydantic import BaseModel\n",
    "from tqdm.notebook import tqdm, trange\n",
    "\n",
    "random.seed(16)\n",
    "sns.set_theme(style=\"ticks\", palette=\"pastel\")"
   ]
  },
  {
   "cell_type": "markdown",
   "metadata": {},
   "source": [
    "# Email information model\n",
    "\n",
    "To start, we need define the model, and by extension the JSON schema, for the structured information we want to extract from the emails. For this, we use [Pydantic](https://docs.pydantic.dev/latest/) to define models for email information, the sender, and the recipient, along with methods to compare and compute similarity scores."
   ]
  },
  {
   "cell_type": "code",
   "execution_count": 2,
   "metadata": {},
   "outputs": [],
   "source": [
    "# | code-summary: \"**EmailBaseModel**: Base model class for email-related information extraction.\"\n",
    "\n",
    "\n",
    "class EmailBaseModel(BaseModel, extra=\"forbid\"):\n",
    "    \"\"\"Base model class for email-related information extraction.\n",
    "\n",
    "    This class extends BaseModel and provides common functionality for comparing\n",
    "    string attributes between email information objects.\n",
    "\n",
    "    Note:\n",
    "        The extra=\"forbid\" parameter ensures no additional attributes can be added\n",
    "        beyond those explicitly defined.\n",
    "    \"\"\"\n",
    "\n",
    "    @staticmethod\n",
    "    def _compare_strings(a: str | None, b: str | None) -> float:\n",
    "        \"\"\"Computes similarity ratio between two possibly None strings.\n",
    "\n",
    "        Uses SequenceMatcher to calculate string similarity when both inputs are\n",
    "        not missing (None). Handles cases where one or both inputs are None.\n",
    "\n",
    "        Args:\n",
    "            a: First string to compare, or None\n",
    "            b: Second string to compare, or None\n",
    "\n",
    "        Returns:\n",
    "            Similarity ratio between 0.0 and 1.0, where:\n",
    "                - 1.0 indicates identical strings or both are None\n",
    "                - 0.0 indicates completely different strings or one of them is None\n",
    "                - Values between 0.0 and 1.0 indicate partial similarity\n",
    "        \"\"\"\n",
    "        if a is None and b is None:\n",
    "            similarity = 1.0\n",
    "        elif a is not None and b is not None:\n",
    "            similarity = SequenceMatcher(None, a, b).ratio()\n",
    "        elif a is not None:\n",
    "            similarity = 0.0\n",
    "        else:\n",
    "            similarity = 0.0\n",
    "        return similarity"
   ]
  },
  {
   "cell_type": "code",
   "execution_count": 3,
   "metadata": {},
   "outputs": [],
   "source": [
    "# | code-summary: \"**Sender**: Represents a sender of an email with their associated information.\"\n",
    "\n",
    "\n",
    "class Sender(EmailBaseModel):\n",
    "    \"\"\"Represents a sender of an email with their associated information.\n",
    "\n",
    "    Stores and compares sender details including name, email, phone number,\n",
    "    role, and organization.\n",
    "\n",
    "    Attributes:\n",
    "        name: The sender's full name if available\n",
    "        email: The sender's email address\n",
    "        phone_number: The sender's phone number if available\n",
    "        role: The sender's professional role if available\n",
    "        organization: The sender's organization if available\n",
    "    \"\"\"\n",
    "\n",
    "    name: str | None = None\n",
    "    email: str\n",
    "    phone_number: str | None = None\n",
    "    role: str | None = None\n",
    "    organization: str | None = None\n",
    "\n",
    "    def compare(self, other: \"Sender\") -> float:\n",
    "        \"\"\"Compares this sender with another sender object.\n",
    "\n",
    "        Calculates similarity by comparing all attributes using string comparison\n",
    "        and returns the mean similarity across all fields.\n",
    "\n",
    "        Args:\n",
    "            other: Another Sender object to compare against\n",
    "\n",
    "        Returns:\n",
    "            Mean similarity ratio between 0.0 and 1.0, where:\n",
    "                - 1.0 indicates identical senders\n",
    "                - 0.0 indicates completely different senders or invalid comparison\n",
    "                - Values between 0.0 and 1.0 indicate partial similarity across fields\n",
    "\n",
    "        Note:\n",
    "            Returns 0.0 if other is not a Sender instance.\n",
    "        \"\"\"\n",
    "        if not isinstance(other, Sender):\n",
    "            return 0.0\n",
    "\n",
    "        name_similarity = self._compare_strings(self.name, other.name)\n",
    "        email_similarity = self._compare_strings(self.email, other.email)\n",
    "        phone_number_similarity = self._compare_strings(\n",
    "            self.phone_number, other.phone_number\n",
    "        )\n",
    "        role_similarity = self._compare_strings(self.role, other.role)\n",
    "        organization_similarity = self._compare_strings(\n",
    "            self.organization, other.organization\n",
    "        )\n",
    "        return fmean(\n",
    "            [\n",
    "                name_similarity,\n",
    "                email_similarity,\n",
    "                phone_number_similarity,\n",
    "                role_similarity,\n",
    "                organization_similarity,\n",
    "            ]\n",
    "        )"
   ]
  },
  {
   "cell_type": "code",
   "execution_count": 4,
   "metadata": {},
   "outputs": [],
   "source": [
    "# | code-summary: \"**Recipient**: Represents a recipient of an email with their associated information.\"\n",
    "\n",
    "\n",
    "class Recipient(EmailBaseModel):\n",
    "    \"\"\"Represents a recipient of an email with their associated information.\n",
    "\n",
    "    Stores and compares recipient details including name, email, phone number,\n",
    "    role, organization, and their type of recipiency (to, cc, bcc).\n",
    "\n",
    "    Attributes:\n",
    "        name: The recipient's full name if available\n",
    "        email: The recipient's email address\n",
    "        phone_number: The recipient's phone number if available\n",
    "        role: The recipient's professional role if available\n",
    "        organization: The recipient's organization if available\n",
    "        type: The type of recipient (\"to\", \"cc\", or \"bcc\")\n",
    "    \"\"\"\n",
    "\n",
    "    name: str | None = None\n",
    "    email: str\n",
    "    phone_number: str | None = None\n",
    "    role: str | None = None\n",
    "    organization: str | None = None\n",
    "    type: Literal[\"to\", \"cc\", \"bcc\"] = \"to\"\n",
    "\n",
    "    def compare(self, other: \"Recipient\") -> float:\n",
    "        \"\"\"Compares this recipient with another recipient object.\n",
    "\n",
    "        Calculates similarity by comparing all attributes using string comparison\n",
    "        and includes exact matching for recipient type. Returns the mean\n",
    "        similarity across all fields.\n",
    "\n",
    "        Args:\n",
    "            other: Another Recipient object to compare against\n",
    "\n",
    "        Returns:\n",
    "            Mean similarity ratio between 0.0 and 1.0, where:\n",
    "                - 1.0 indicates identical recipients\n",
    "                - 0.0 indicates completely different recipients or invalid comparison\n",
    "                - Values between 0.0 and 1.0 indicate partial similarity across fields\n",
    "\n",
    "        Note:\n",
    "            Returns 0.0 if other is not a Recipient instance.\n",
    "            Recipient type comparison is binary: 1.0 if identical, 0.0 if different.\n",
    "        \"\"\"\n",
    "        if not isinstance(other, Recipient):\n",
    "            return 0.0\n",
    "\n",
    "        name_similarity = self._compare_strings(self.name, other.name)\n",
    "        email_similarity = self._compare_strings(self.email, other.email)\n",
    "        phone_number_similarity = self._compare_strings(\n",
    "            self.phone_number, other.phone_number\n",
    "        )\n",
    "        role_similarity = self._compare_strings(self.role, other.role)\n",
    "        organization_similarity = self._compare_strings(\n",
    "            self.organization, other.organization\n",
    "        )\n",
    "        type_similarity = 1.0 if self.type == other.type else 0.0\n",
    "        return fmean(\n",
    "            [\n",
    "                name_similarity,\n",
    "                email_similarity,\n",
    "                phone_number_similarity,\n",
    "                role_similarity,\n",
    "                organization_similarity,\n",
    "                type_similarity,\n",
    "            ]\n",
    "        )"
   ]
  },
  {
   "cell_type": "code",
   "execution_count": 5,
   "metadata": {},
   "outputs": [],
   "source": [
    "# | code-summary: \"**EmailInformation**: Represents information extracted from an email.\"\n",
    "\n",
    "\n",
    "class EmailInformation(EmailBaseModel):\n",
    "    \"\"\"Represents information extracted from an email.\n",
    "\n",
    "    Stores and compares email metadata including date, subject, sender information,\n",
    "    and a list of recipients. Provides functionality to compare two email information\n",
    "    objects for similarity.\n",
    "\n",
    "    Attributes:\n",
    "        date: The date of the email\n",
    "        subject: The email subject line\n",
    "        sender: Sender object containing sender information\n",
    "        recipients: List of Recipient objects containing recipient information\n",
    "    \"\"\"\n",
    "\n",
    "    date: str\n",
    "    subject: str\n",
    "    sender: Sender\n",
    "    recipients: list[Recipient]\n",
    "\n",
    "    def compare(self, other: \"EmailInformation\") -> float:\n",
    "        \"\"\"Compares this email information with another email information object.\n",
    "\n",
    "        Performs a detailed comparison of all email attributes including sender\n",
    "        and recipient information. For recipients, finds the best matching recipient\n",
    "        pairs between the two emails and averages their similarities.\n",
    "\n",
    "        Args:\n",
    "            other: Another EmailInformation object to compare against\n",
    "\n",
    "        Returns:\n",
    "            Mean similarity ratio between 0.0 and 1.0, where:\n",
    "                - 1.0 indicates identical email information\n",
    "                - 0.0 indicates completely different emails or invalid comparison\n",
    "                - Values between 0.0 and 1.0 indicate partial similarity across all fields\n",
    "\n",
    "        Note:\n",
    "            - Returns 0.0 if other is not an EmailInformation instance.\n",
    "            - Returns 1.0 if self == other (exact match).\n",
    "            - Recipient comparison finds the best matching recipient for each\n",
    "              recipient in self.recipients among other.recipients.\n",
    "        \"\"\"\n",
    "        if not isinstance(other, EmailInformation):\n",
    "            return 0.0\n",
    "        if self == other:\n",
    "            return 1.0\n",
    "        date_similarity = self._compare_strings(self.date, other.date)\n",
    "        subject_similarity = self._compare_strings(self.subject, other.subject)\n",
    "        sender_similarity = self.sender.compare(other.sender)\n",
    "\n",
    "        if self.recipients == other.recipients:\n",
    "            recipient_similarity = 1.0\n",
    "        else:\n",
    "            recipient_similarities = []\n",
    "            for recipient_1 in self.recipients:\n",
    "                recipient_1_similarity = 0.0\n",
    "                for recipient_2 in other.recipients:\n",
    "                    recipient_1_similarity = max(\n",
    "                        recipient_1_similarity, recipient_1.compare(recipient_2)\n",
    "                    )\n",
    "                recipient_similarities.append(recipient_1_similarity)\n",
    "            if recipient_similarities:\n",
    "                recipient_similarity = fmean(recipient_similarities)\n",
    "            else:\n",
    "                recipient_similarity = 0.0\n",
    "\n",
    "        return fmean(\n",
    "            [\n",
    "                date_similarity,\n",
    "                subject_similarity,\n",
    "                sender_similarity,\n",
    "                recipient_similarity,\n",
    "            ]\n",
    "        )"
   ]
  },
  {
   "cell_type": "markdown",
   "metadata": {},
   "source": [
    "To evaluate our approaches, we define a helper function to run the extraction on all emails in a given dataset and compute similarities."
   ]
  },
  {
   "cell_type": "code",
   "execution_count": 6,
   "metadata": {},
   "outputs": [],
   "source": [
    "# | code-summary: \"**evaluate_extraction**: Function that evaluates an email information extraction function against a ground truth dataset.\"\n",
    "\n",
    "\n",
    "def evaluate_extraction(\n",
    "    extract_fn: Callable[[str], EmailInformation],\n",
    "    dataset: list[dict[str, Any]],\n",
    ") -> list[float]:\n",
    "    \"\"\"Evaluates an email information extraction function against a ground truth dataset.\n",
    "\n",
    "    Processes each email in the dataset using the provided extraction function and\n",
    "    compares the results against ground truth annotations using the EmailInformation\n",
    "    comparison logic.\n",
    "\n",
    "    Args:\n",
    "        extract_fn: Function that takes a raw email string as input and returns\n",
    "            an EmailInformation object containing the extracted information.\n",
    "        dataset: List of dictionaries, where each dictionary contains:\n",
    "            - 'raw_email': The raw email text to process\n",
    "            - 'extracted_information': Ground truth EmailInformation object\n",
    "\n",
    "    Returns:\n",
    "        List of similarity scores between 0.0 and 1.0 for each email, where:\n",
    "            - 1.0 indicates perfect extraction matching ground truth\n",
    "            - 0.0 indicates completely incorrect extraction\n",
    "            - Values between indicate partial matching of extracted information\n",
    "    \"\"\"\n",
    "    scores = []\n",
    "\n",
    "    for sample in tqdm(dataset, desc=\"Emails\", leave=False):\n",
    "        extracted_information = extract_fn(sample[\"raw_email\"])\n",
    "\n",
    "        score = sample[\"extracted_information\"].compare(extracted_information)\n",
    "        scores.append(score)\n",
    "\n",
    "    return scores"
   ]
  },
  {
   "cell_type": "markdown",
   "metadata": {},
   "source": [
    "# Data\n",
    "\n",
    "For this exercise, we use 20 emails from the [Enron dataset](https://www.cs.cmu.edu/~enron/) that I labelled myself. We use 4 emails for the training set ( We will see later for what purpose we need such as set) and 16 emails for the test set."
   ]
  },
  {
   "cell_type": "code",
   "execution_count": 7,
   "metadata": {},
   "outputs": [],
   "source": [
    "# | echo: false\n",
    "\n",
    "with open(\"enron_emails.yml\") as f:\n",
    "    all_email_data = yaml.safe_load(f)\n",
    "\n",
    "for email_data in all_email_data:\n",
    "    email_data[\"extracted_information\"] = EmailInformation.model_validate(\n",
    "        email_data[\"extracted_information\"]\n",
    "    )\n",
    "\n",
    "all_indices = list(range(len(all_email_data)))\n",
    "train_set_indices = random.choices(all_indices, k=int(0.2 * len(all_email_data)))\n",
    "test_set_indices = list(set(all_indices).difference(train_set_indices))\n",
    "train_set = [all_email_data[i] for i in train_set_indices]\n",
    "test_set = [all_email_data[i] for i in test_set_indices]"
   ]
  },
  {
   "cell_type": "code",
   "execution_count": 8,
   "metadata": {},
   "outputs": [],
   "source": [
    "# | echo: false\n",
    "\n",
    "sample_test_email = train_set[1]\n",
    "sample_raw_email = sample_test_email[\"raw_email\"]\n",
    "sample_email_information = sample_test_email[\"extracted_information\"]"
   ]
  },
  {
   "cell_type": "code",
   "execution_count": 9,
   "metadata": {},
   "outputs": [
    {
     "name": "stdout",
     "output_type": "stream",
     "text": [
      "Sample raw email:\n",
      "\n",
      "```yaml\n",
      "Message-ID: <23530825.1075858413552.JavaMail.evans@thyme>\n",
      "Date: Thu, 10 May 2001 05:08:00 -0700 (PDT)\n",
      "From: kam.keiser@enron.com\n",
      "To: sabra.dinari@enron.com\n",
      "Subject: FP&L\n",
      "Cc: yuan.tian@enron.com, scott.neal@enron.com\n",
      "Mime-Version: 1.0\n",
      "Content-Type: text/plain; charset=us-ascii\n",
      "Content-Transfer-Encoding: 7bit\n",
      "Bcc: yuan.tian@enron.com, scott.neal@enron.com\n",
      "X-From: Kam Keiser\n",
      "X-To: Sabra L Dinari\n",
      "X-cc: Yuan Tian, Scott Neal\n",
      "X-bcc:\n",
      "X-Folder: \\Scott_Neal_Jun2001\\Notes Folders\\Notes inbox\n",
      "X-Origin: Neal-S\n",
      "X-FileName: sneal.nsf\n",
      "\n",
      "Sabra,\n",
      "\n",
      "I have extended the current FP&L sitara #217969 to the end of the deal\n",
      "(2/2010).\n",
      "\n",
      "Keeping the same deal # helps us keep up with the value.\n",
      "\n",
      "I set it up with the volumes we booked in TAGG, I know the volumes and\n",
      "locations will change but if you could send me and Yuan an e-mail when you\n",
      "have made your change during bid week we will make the changes to the hedge\n",
      "deal.\n",
      "\n",
      "\n",
      "Thanks,\n",
      "\n",
      "Kam\n",
      "\n",
      "\n",
      "ps.  Scott, you will not see any problems with this deal in the future.\n",
      "Sorry for the trouble.\n",
      "```\n",
      "\n"
     ]
    }
   ],
   "source": [
    "# | echo: false\n",
    "# | output: asis\n",
    "\n",
    "print(f\"\"\"Sample raw email:\n",
    "\n",
    "```yaml\n",
    "{sample_raw_email}\n",
    "```\n",
    "\"\"\")"
   ]
  },
  {
   "cell_type": "code",
   "execution_count": 10,
   "metadata": {},
   "outputs": [
    {
     "name": "stdout",
     "output_type": "stream",
     "text": [
      "Sample ground truth extracted information:\n",
      "\n",
      "```json\n",
      "{\n",
      "    \"date\": \"10.05.2001\",\n",
      "    \"subject\": \"FP&L\",\n",
      "    \"sender\": {\n",
      "        \"name\": \"Kam Keiser\",\n",
      "        \"email\": \"kam.keiser@enron.com\",\n",
      "        \"phone_number\": null,\n",
      "        \"role\": null,\n",
      "        \"organization\": \"Enron Corp.\"\n",
      "    },\n",
      "    \"recipients\": [\n",
      "        {\n",
      "            \"name\": \"Sabra L. Dinari\",\n",
      "            \"email\": \"sabra.dinari@enron.com\",\n",
      "            \"phone_number\": null,\n",
      "            \"role\": null,\n",
      "            \"organization\": \"Enron Corp.\",\n",
      "            \"type\": \"to\"\n",
      "        },\n",
      "        {\n",
      "            \"name\": \"Scott Neal\",\n",
      "            \"email\": \"scott.neal@enron.com\",\n",
      "            \"phone_number\": null,\n",
      "            \"role\": null,\n",
      "            \"organization\": \"Enron Corp.\",\n",
      "            \"type\": \"cc\"\n",
      "        },\n",
      "        {\n",
      "            \"name\": \"Scott Neal\",\n",
      "            \"email\": \"scott.neal@enron.com\",\n",
      "            \"phone_number\": null,\n",
      "            \"role\": null,\n",
      "            \"organization\": \"Enron Corp.\",\n",
      "            \"type\": \"bcc\"\n",
      "        },\n",
      "        {\n",
      "            \"name\": \"Yuan Tian\",\n",
      "            \"email\": \"yuan.tian@enron.com\",\n",
      "            \"phone_number\": null,\n",
      "            \"role\": null,\n",
      "            \"organization\": \"Enron Corp.\",\n",
      "            \"type\": \"cc\"\n",
      "        },\n",
      "        {\n",
      "            \"name\": \"Yuan Tian\",\n",
      "            \"email\": \"yuan.tian@enron.com\",\n",
      "            \"phone_number\": null,\n",
      "            \"role\": null,\n",
      "            \"organization\": \"Enron Corp.\",\n",
      "            \"type\": \"bcc\"\n",
      "        }\n",
      "    ]\n",
      "}\"\n",
      "```\n",
      "\n"
     ]
    }
   ],
   "source": [
    "# | echo: false\n",
    "# | output: asis\n",
    "\n",
    "print(f\"\"\"Sample ground truth extracted information:\n",
    "\n",
    "```json\n",
    "{sample_email_information.model_dump_json(indent=4)}\"\n",
    "```\n",
    "\"\"\")"
   ]
  },
  {
   "cell_type": "markdown",
   "metadata": {},
   "source": [
    "# Approaches"
   ]
  },
  {
   "cell_type": "markdown",
   "metadata": {},
   "source": [
    "## Baseline - Use Python's builtin email parser\n",
    "\n",
    "As a baseline, we use Python’s built-in email parser from the [email](https://docs.python.org/3/library/email.examples.html) package to extract information. We define an extraction function that parses the emails and extracts basic information without much validation."
   ]
  },
  {
   "cell_type": "code",
   "execution_count": 11,
   "metadata": {},
   "outputs": [],
   "source": [
    "# | code-summary: \"**extract_information_with_builtin_parser**: Function that extracts information using Python's built-in email parser.\"\n",
    "\n",
    "\n",
    "def extract_information_with_builtin_parser(raw_email: str) -> EmailInformation:\n",
    "    \"\"\"Extracts structured information from a raw email using Python's built-in email parser.\n",
    "\n",
    "    Parses the raw email text to extract metadata including date, subject, sender, and recipients.\n",
    "    Handles special X-headers for additional information like sender and recipient names.\n",
    "\n",
    "    Args:\n",
    "        raw_email: Raw email text including headers and body.\n",
    "\n",
    "    Returns:\n",
    "        Structured object containing the extracted information with:\n",
    "            - date: Formatted as DD.MM.YYYY\n",
    "            - subject: Email subject line\n",
    "            - sender: Sender information including email and optional name\n",
    "            - recipients: List of recipients (to/cc/bcc) with email and optional name,\n",
    "                sorted by email address\n",
    "    \"\"\"\n",
    "    parser = Parser()\n",
    "    email = parser.parsestr(raw_email)\n",
    "    parsed_date = datetime.strptime(\n",
    "        email[\"date\"].strip().split(\"(\")[0], \"%a, %d %b %Y %H:%M:%S %z \"\n",
    "    )\n",
    "    formatted_date = parsed_date.strftime(\"%d.%m.%Y\")\n",
    "    email_dict = {\"date\": formatted_date, \"subject\": email[\"subject\"].strip()}\n",
    "    sender = {\"email\": email[\"from\"].strip()}\n",
    "    if email[\"X-from\"] and email[\"X-from\"].strip() != email[\"from\"]:\n",
    "        sender[\"name\"] = email[\"X-from\"].strip()\n",
    "    email_dict[\"sender\"] = sender\n",
    "\n",
    "    recipients = []\n",
    "    for type_ in [\"to\", \"cc\", \"bcc\"]:\n",
    "        recipient_names = email.get(f\"X-{type_}\", \"\").strip().split(\",\")\n",
    "        recipient_emails = email.get(type_, None)\n",
    "        if recipient_emails is None:\n",
    "            continue\n",
    "        recipient_emails = recipient_emails.split(\",\")\n",
    "        if len(recipient_emails) != len(recipient_names):\n",
    "            recipient_names = [\"\"] * len(recipient_emails)\n",
    "        for recipient_name, recipient_email in zip(recipient_names, recipient_emails):\n",
    "            recipient = {\"type\": type_, \"email\": recipient_email.strip()}\n",
    "            if recipient_name and recipient_name != recipient_email:\n",
    "                recipient[\"name\"] = recipient_name.strip()\n",
    "            recipients.append(recipient)\n",
    "\n",
    "    email_dict[\"recipients\"] = list(sorted(recipients, key=lambda x: x[\"email\"]))\n",
    "\n",
    "    return EmailInformation.model_validate(email_dict)"
   ]
  },
  {
   "cell_type": "code",
   "execution_count": 12,
   "metadata": {},
   "outputs": [
    {
     "data": {
      "application/vnd.jupyter.widget-view+json": {
       "model_id": "41da426371b14a06adc8c9056c56ead0",
       "version_major": 2,
       "version_minor": 0
      },
      "text/plain": [
       "Emails:   0%|          | 0/17 [00:00<?, ?it/s]"
      ]
     },
     "metadata": {},
     "output_type": "display_data"
    }
   ],
   "source": [
    "# | echo: false\n",
    "\n",
    "extracted_information = extract_information_with_builtin_parser(sample_raw_email)\n",
    "builtin_test_scores = evaluate_extraction(\n",
    "    extract_information_with_builtin_parser, test_set\n",
    ")"
   ]
  },
  {
   "cell_type": "markdown",
   "metadata": {},
   "source": [
    "Using this method, we extract the following information from the sample test email:"
   ]
  },
  {
   "cell_type": "code",
   "execution_count": 13,
   "metadata": {},
   "outputs": [
    {
     "name": "stdout",
     "output_type": "stream",
     "text": [
      "```json\n",
      "{\n",
      "    \"date\": \"10.05.2001\",\n",
      "    \"subject\": \"FP&L\",\n",
      "    \"sender\": {\n",
      "        \"name\": \"Kam Keiser\",\n",
      "        \"email\": \"kam.keiser@enron.com\",\n",
      "        \"phone_number\": null,\n",
      "        \"role\": null,\n",
      "        \"organization\": null\n",
      "    },\n",
      "    \"recipients\": [\n",
      "        {\n",
      "            \"name\": \"Sabra L Dinari\",\n",
      "            \"email\": \"sabra.dinari@enron.com\",\n",
      "            \"phone_number\": null,\n",
      "            \"role\": null,\n",
      "            \"organization\": null,\n",
      "            \"type\": \"to\"\n",
      "        },\n",
      "        {\n",
      "            \"name\": \"Scott Neal\",\n",
      "            \"email\": \"scott.neal@enron.com\",\n",
      "            \"phone_number\": null,\n",
      "            \"role\": null,\n",
      "            \"organization\": null,\n",
      "            \"type\": \"cc\"\n",
      "        },\n",
      "        {\n",
      "            \"name\": null,\n",
      "            \"email\": \"scott.neal@enron.com\",\n",
      "            \"phone_number\": null,\n",
      "            \"role\": null,\n",
      "            \"organization\": null,\n",
      "            \"type\": \"bcc\"\n",
      "        },\n",
      "        {\n",
      "            \"name\": \"Yuan Tian\",\n",
      "            \"email\": \"yuan.tian@enron.com\",\n",
      "            \"phone_number\": null,\n",
      "            \"role\": null,\n",
      "            \"organization\": null,\n",
      "            \"type\": \"cc\"\n",
      "        },\n",
      "        {\n",
      "            \"name\": null,\n",
      "            \"email\": \"yuan.tian@enron.com\",\n",
      "            \"phone_number\": null,\n",
      "            \"role\": null,\n",
      "            \"organization\": null,\n",
      "            \"type\": \"bcc\"\n",
      "        }\n",
      "    ]\n",
      "}\"\n",
      "```\n",
      "\n"
     ]
    }
   ],
   "source": [
    "# | echo: false\n",
    "# | output: asis\n",
    "\n",
    "print(f\"\"\"```json\n",
    "{extracted_information.model_dump_json(indent=4)}\"\n",
    "```\n",
    "\"\"\")"
   ]
  },
  {
   "cell_type": "markdown",
   "metadata": {},
   "source": [
    "We also compute the average score of this approach on the test set:"
   ]
  },
  {
   "cell_type": "code",
   "execution_count": 14,
   "metadata": {},
   "outputs": [
    {
     "name": "stdout",
     "output_type": "stream",
     "text": [
      "84.29%\n"
     ]
    }
   ],
   "source": [
    "# | echo: false\n",
    "# | output: asis\n",
    "\n",
    "print(f\"{np.mean(builtin_test_scores) * 100:.2f}%\")"
   ]
  },
  {
   "cell_type": "markdown",
   "metadata": {},
   "source": [
    "The results are plotted as a box plot, showing that while the extraction is relatively good, it is far from perfect."
   ]
  },
  {
   "cell_type": "code",
   "execution_count": 15,
   "metadata": {},
   "outputs": [
    {
     "data": {
      "image/png": "[encoded data removed]",
      "text/plain": [
       "<Figure size 640x480 with 1 Axes>"
      ]
     },
     "metadata": {},
     "output_type": "display_data"
    }
   ],
   "source": [
    "# | echo: false\n",
    "# | fig-cap: Builtin Email Parser Score\n",
    "# | fig-alt: Builtin Email Parser Score\n",
    "\n",
    "ax = sns.boxplot(x=builtin_test_scores)\n",
    "ax.set_xlim(left=-0.1, right=1.1)\n",
    "ax.set_xlabel(\"Score\")\n",
    "sns.despine(offset=10, trim=True);"
   ]
  },
  {
   "cell_type": "markdown",
   "metadata": {},
   "source": [
    "## First Approach - Use LLM zero-shot extraction with JSON schema\n",
    "\n",
    "Next, we explore using an LLM for zero-shot extraction with a JSON schema. For this, we use [llama-cpp-python](https://llama-cpp-python.readthedocs.io/en/latest/), a Python wrapper for [llama.cpp](https://github.com/ggerganov/llama.cpp), to run a local LLM. This approach allows us to pass a JSON schema, ensuring structured output without needing to adjust the prompt repeatedly in order to coerce the LLM into generating valid JSON data.\n",
    "\n",
    "> **Note**: There are [known performance issues](https://github.com/ggerganov/llama.cpp/blob/master/grammars/README.md#troubleshooting) with llama.cpp's structured output generation using grammars and, by extension, json schemas especially with nested objects.\n",
    "\n",
    "We use a quantized version of Llama 3.2 3B Instruct with a context length of 16,384 tokens to handle long raw emails."
   ]
  },
  {
   "cell_type": "code",
   "execution_count": 16,
   "metadata": {},
   "outputs": [
    {
     "name": "stderr",
     "output_type": "stream",
     "text": [
      "llama_new_context_with_model: n_ctx_per_seq (16384) < n_ctx_train (131072) -- the full capacity of the model will not be utilized\n"
     ]
    }
   ],
   "source": [
    "# | code-fold: false\n",
    "# | output: false\n",
    "\n",
    "llm = Llama.from_pretrained(\n",
    "    \"bartowski/Llama-3.2-3B-Instruct-GGUF\",\n",
    "    filename=\"Llama-3.2-3B-Instruct-Q8_0.gguf\",\n",
    "    n_ctx=16384,\n",
    "    n_gpu_layers=-1,\n",
    "    verbose=False,\n",
    ")"
   ]
  },
  {
   "cell_type": "markdown",
   "metadata": {},
   "source": [
    "A system prompt is defined to guide the LLM, using a JSON type definition instead of a JSON schema, inspired by a blog post I came across. This version is shorter, produces better results, and is more human-readable.\n",
    "\n",
    "We then define a system prompt to guide the LLM, using a JSON type definition instead of a JSON schema, inspired by [this blog post](https://www.boundaryml.com/blog/type-definition-prompting-baml) I came accross. The prompt with the type definition is shorter, produces better results and is more human-readable."
   ]
  },
  {
   "cell_type": "code",
   "execution_count": 17,
   "metadata": {},
   "outputs": [
    {
     "name": "stdout",
     "output_type": "stream",
     "text": [
      "```json\n",
      "You are a helpful assistant that extract information from a user provided email in JSON format that adheres to the following schema:\n",
      "\n",
      "{\n",
      "    \"date\": string,\n",
      "    \"subject\": string,\n",
      "    \"sender\": {\n",
      "        \"name\": string | null,\n",
      "        \"email\": string,\n",
      "        \"phone_number\": string | null,\n",
      "        \"role\": string | null,\n",
      "        \"organization\": string | null\n",
      "    },\n",
      "    \"recipients\": {\n",
      "        \"name\": string | null,\n",
      "        \"email\": string,\n",
      "        \"phone_number\": string | null,\n",
      "        \"role\": string | null,\n",
      "        \"organization\": string | null,\n",
      "        \"to\": enum([\"to\", \"cc\", \"bcc\"])\n",
      "    }[]\n",
      "}\n",
      "\n",
      "```\n"
     ]
    }
   ],
   "source": [
    "# | echo: false\n",
    "# | output: asis\n",
    "\n",
    "system_prompt = \"\"\"You are a helpful assistant that extract information from a user provided email in JSON format that adheres to the following schema:\n",
    "\n",
    "{\n",
    "    \"date\": string,\n",
    "    \"subject\": string,\n",
    "    \"sender\": {\n",
    "        \"name\": string | null,\n",
    "        \"email\": string,\n",
    "        \"phone_number\": string | null,\n",
    "        \"role\": string | null,\n",
    "        \"organization\": string | null\n",
    "    },\n",
    "    \"recipients\": {\n",
    "        \"name\": string | null,\n",
    "        \"email\": string,\n",
    "        \"phone_number\": string | null,\n",
    "        \"role\": string | null,\n",
    "        \"organization\": string | null,\n",
    "        \"to\": enum([\"to\", \"cc\", \"bcc\"])\n",
    "    }[]\n",
    "}\n",
    "\"\"\"\n",
    "print(f\"\"\"```json\n",
    "{system_prompt}\n",
    "```\"\"\")"
   ]
  },
  {
   "cell_type": "code",
   "execution_count": 18,
   "metadata": {},
   "outputs": [],
   "source": [
    "# | code-summary: \"**extract_information_with_llm**: Function that extracts information using an LLM\"\n",
    "\n",
    "\n",
    "def extract_information_with_llm(\n",
    "    raw_email: str, *, system_prompt: str\n",
    ") -> EmailInformation:\n",
    "    \"\"\"Extracts structured information from a raw email using an LLM.\n",
    "\n",
    "    Uses chat completion API to parse email content into structured format.\n",
    "    Enforces output schema validation using EmailInformation model specification.\n",
    "\n",
    "    Args:\n",
    "        raw_email: Raw email text including headers and body.\n",
    "        system_prompt: System prompt for the LLM that defines the extraction task.\n",
    "\n",
    "    Returns:\n",
    "        Structured object containing the extracted information, validated against the EmailInformation schema.\n",
    "    \"\"\"\n",
    "    response_format = {\n",
    "        \"type\": \"json_object\",\n",
    "        \"schema\": EmailInformation.model_json_schema(),\n",
    "    }\n",
    "    output = llm.create_chat_completion_openai_v1(\n",
    "        messages=[\n",
    "            {\n",
    "                \"role\": \"system\",\n",
    "                \"content\": system_prompt,\n",
    "            },\n",
    "            {\"role\": \"user\", \"content\": raw_email},\n",
    "        ],\n",
    "        response_format=response_format,\n",
    "        temperature=0.3,\n",
    "    )\n",
    "    extracted_information = EmailInformation.model_validate_json(\n",
    "        output.choices[0].message.content\n",
    "    )\n",
    "    return extracted_information"
   ]
  },
  {
   "cell_type": "code",
   "execution_count": 19,
   "metadata": {},
   "outputs": [
    {
     "data": {
      "application/vnd.jupyter.widget-view+json": {
       "model_id": "3ddc1435e0c143af99317607e6ff28a6",
       "version_major": 2,
       "version_minor": 0
      },
      "text/plain": [
       "Emails:   0%|          | 0/17 [00:00<?, ?it/s]"
      ]
     },
     "metadata": {},
     "output_type": "display_data"
    }
   ],
   "source": [
    "# | echo: false\n",
    "\n",
    "extracted_information = extract_information_with_llm(\n",
    "    sample_raw_email, system_prompt=system_prompt\n",
    ")\n",
    "llm_test_scores = evaluate_extraction(\n",
    "    partial(extract_information_with_llm, system_prompt=system_prompt), test_set\n",
    ")"
   ]
  },
  {
   "cell_type": "markdown",
   "metadata": {},
   "source": [
    "Using this method, we extract the following information from the sample test email:"
   ]
  },
  {
   "cell_type": "code",
   "execution_count": 20,
   "metadata": {},
   "outputs": [
    {
     "name": "stdout",
     "output_type": "stream",
     "text": [
      "Sample extracted information with llm zero-shot prompt:\n",
      "\n",
      "```json\n",
      "{\n",
      "    \"date\": \"Thu, 10 May 2001 05:08:00 -0700 (PDT)\",\n",
      "    \"subject\": \"FP&L\",\n",
      "    \"sender\": {\n",
      "        \"name\": \"Kam Keiser\",\n",
      "        \"email\": \"kam.keiser@enron.com\",\n",
      "        \"phone_number\": null,\n",
      "        \"role\": \"X-From\",\n",
      "        \"organization\": \"X-Origin: Neal-S\"\n",
      "    },\n",
      "    \"recipients\": [\n",
      "        {\n",
      "            \"name\": \"Sabra L Dinari\",\n",
      "            \"email\": \"sabra.dinari@enron.com\",\n",
      "            \"phone_number\": null,\n",
      "            \"role\": \"X-To\",\n",
      "            \"organization\": \"X-Origin: Neal-S\",\n",
      "            \"type\": \"to\"\n",
      "        },\n",
      "        {\n",
      "            \"name\": \"Yuan Tian\",\n",
      "            \"email\": \"yuan.tian@enron.com\",\n",
      "            \"phone_number\": null,\n",
      "            \"role\": \"X-cc\",\n",
      "            \"organization\": \"X-Origin: Neal-S\",\n",
      "            \"type\": \"cc\"\n",
      "        },\n",
      "        {\n",
      "            \"name\": \"Scott Neal\",\n",
      "            \"email\": \"scott.neal@enron.com\",\n",
      "            \"phone_number\": null,\n",
      "            \"role\": \"X-cc\",\n",
      "            \"organization\": \"X-Origin: Neal-S\",\n",
      "            \"type\": \"cc\"\n",
      "        }\n",
      "    ]\n",
      "}\"\n",
      "```\n",
      "\n"
     ]
    }
   ],
   "source": [
    "# | echo: false\n",
    "# | output: asis\n",
    "\n",
    "print(f\"\"\"Sample extracted information with llm zero-shot prompt:\n",
    "\n",
    "```json\n",
    "{extracted_information.model_dump_json(indent=4)}\"\n",
    "```\n",
    "\"\"\")"
   ]
  },
  {
   "cell_type": "markdown",
   "metadata": {},
   "source": [
    "We also compute the average score of this approach on the test set:"
   ]
  },
  {
   "cell_type": "code",
   "execution_count": 21,
   "metadata": {},
   "outputs": [
    {
     "name": "stdout",
     "output_type": "stream",
     "text": [
      "64.55%\n"
     ]
    }
   ],
   "source": [
    "# | echo: false\n",
    "# | output: asis\n",
    "\n",
    "print(f\"{np.mean(llm_test_scores) * 100:.2f}%\")"
   ]
  },
  {
   "cell_type": "code",
   "execution_count": 22,
   "metadata": {},
   "outputs": [
    {
     "data": {
      "image/png": "[encoded data removed]",
      "text/plain": [
       "<Figure size 640x480 with 1 Axes>"
      ]
     },
     "metadata": {},
     "output_type": "display_data"
    }
   ],
   "source": [
    "# | echo: false\n",
    "# | fig-cap: LLM Zero-Shot Prompt Score\n",
    "# | fig-alt: LLM Zero-Shot Prompt Score\n",
    "\n",
    "ax = sns.boxplot(x=llm_test_scores)\n",
    "ax.set_xlim(left=-0.1, right=1.1)\n",
    "ax.set_xlabel(\"Score\")\n",
    "sns.despine(offset=10, trim=True);"
   ]
  },
  {
   "cell_type": "markdown",
   "metadata": {},
   "source": [
    "We can see that this approach performs much worse than the previous one, most likely due to mismatch in expected formats. For example, we expected the date to be of the form `11.07.2001` instead of `11/07/2001`, `11 Jul 2001` or `Wed, 11 Jul 2001`.\n",
    "\n",
    "To fix that, we will provide an example of information extraction in the system prompt in order to better guide the LLM."
   ]
  },
  {
   "cell_type": "markdown",
   "metadata": {},
   "source": [
    "## Second approach - LLM few-shot extraction with JSON schema\n",
    "\n",
    "To improve performance, we move to a few-shot approach. Given context length and performance constraints, we use one example from the training set in the system prompt, making it a one-shot prompt approach.\n",
    "\n",
    "We evaluate the impact of each example from the training set on the remaining examples in the training set to determine which one best improves the information extraction."
   ]
  },
  {
   "cell_type": "code",
   "execution_count": 23,
   "metadata": {},
   "outputs": [
    {
     "data": {
      "application/vnd.jupyter.widget-view+json": {
       "model_id": "df55d51eae17478f80733b0b27bb0196",
       "version_major": 2,
       "version_minor": 0
      },
      "text/plain": [
       "Example:   0%|          | 0/4 [00:00<?, ?it/s]"
      ]
     },
     "metadata": {},
     "output_type": "display_data"
    },
    {
     "data": {
      "application/vnd.jupyter.widget-view+json": {
       "model_id": "6074e38a694846a18931bccc6a5446eb",
       "version_major": 2,
       "version_minor": 0
      },
      "text/plain": [
       "Emails:   0%|          | 0/3 [00:00<?, ?it/s]"
      ]
     },
     "metadata": {},
     "output_type": "display_data"
    },
    {
     "data": {
      "application/vnd.jupyter.widget-view+json": {
       "model_id": "04a6232fe3344405b08f756201d0ec73",
       "version_major": 2,
       "version_minor": 0
      },
      "text/plain": [
       "Emails:   0%|          | 0/3 [00:00<?, ?it/s]"
      ]
     },
     "metadata": {},
     "output_type": "display_data"
    },
    {
     "data": {
      "application/vnd.jupyter.widget-view+json": {
       "model_id": "93d029a2234d49dd8db2a52041398a43",
       "version_major": 2,
       "version_minor": 0
      },
      "text/plain": [
       "Emails:   0%|          | 0/3 [00:00<?, ?it/s]"
      ]
     },
     "metadata": {},
     "output_type": "display_data"
    },
    {
     "data": {
      "application/vnd.jupyter.widget-view+json": {
       "model_id": "abaae7fd0ac94900a7670138fa95f633",
       "version_major": 2,
       "version_minor": 0
      },
      "text/plain": [
       "Emails:   0%|          | 0/3 [00:00<?, ?it/s]"
      ]
     },
     "metadata": {},
     "output_type": "display_data"
    },
    {
     "data": {
      "application/vnd.jupyter.widget-view+json": {
       "model_id": "3e4dbe896e5048b7bd41da8f063ca3aa",
       "version_major": 2,
       "version_minor": 0
      },
      "text/plain": [
       "Emails:   0%|          | 0/3 [00:00<?, ?it/s]"
      ]
     },
     "metadata": {},
     "output_type": "display_data"
    },
    {
     "data": {
      "application/vnd.jupyter.widget-view+json": {
       "model_id": "1ffe8106c0024d44a5e68e0e37b42789",
       "version_major": 2,
       "version_minor": 0
      },
      "text/plain": [
       "Emails:   0%|          | 0/3 [00:00<?, ?it/s]"
      ]
     },
     "metadata": {},
     "output_type": "display_data"
    },
    {
     "data": {
      "application/vnd.jupyter.widget-view+json": {
       "model_id": "78ab20dcc3124218a29844705f761d09",
       "version_major": 2,
       "version_minor": 0
      },
      "text/plain": [
       "Emails:   0%|          | 0/3 [00:00<?, ?it/s]"
      ]
     },
     "metadata": {},
     "output_type": "display_data"
    },
    {
     "data": {
      "application/vnd.jupyter.widget-view+json": {
       "model_id": "8b6aa09a4d334c43bba3c56c946a93a2",
       "version_major": 2,
       "version_minor": 0
      },
      "text/plain": [
       "Emails:   0%|          | 0/3 [00:00<?, ?it/s]"
      ]
     },
     "metadata": {},
     "output_type": "display_data"
    }
   ],
   "source": [
    "score_improvements = []\n",
    "\n",
    "for i in trange(len(train_set), desc=\"Example\"):\n",
    "    example = train_set[i]\n",
    "    train_set_without_example = train_set[:i] + train_set[i + 1 :]\n",
    "\n",
    "    # We first compute the similarity with the zero-shot system prompt\n",
    "    scores_zero_shot = evaluate_extraction(\n",
    "        partial(extract_information_with_llm, system_prompt=system_prompt),\n",
    "        train_set_without_example,\n",
    "    )\n",
    "    mean_score_zero_shot = np.mean(scores_zero_shot).item()\n",
    "\n",
    "    # We then compute the similarity with the one-shot (with example) system prompt\n",
    "    system_prompt_with_example = (\n",
    "        system_prompt\n",
    "        + f\"\"\"\n",
    "Use the following example of raw email and extracted information as reference:\n",
    "\n",
    "# Raw email\n",
    "\n",
    "{example[\"raw_email\"]}\n",
    "\n",
    "# Extracted information\n",
    "\n",
    "{example[\"extracted_information\"].model_dump_json(indent=2)}\n",
    "\"\"\"\n",
    "    )\n",
    "    scores_one_shot = evaluate_extraction(\n",
    "        partial(extract_information_with_llm, system_prompt=system_prompt_with_example),\n",
    "        train_set_without_example,\n",
    "    )\n",
    "    mean_score_one_shot = np.mean(scores_one_shot).item()\n",
    "    # We then compute the difference in similarity\n",
    "    score_improvement = mean_score_one_shot - mean_score_zero_shot\n",
    "    score_improvements.append(\n",
    "        (\n",
    "            score_improvement,\n",
    "            system_prompt_with_example,\n",
    "        )\n",
    "    )"
   ]
  },
  {
   "cell_type": "code",
   "execution_count": 45,
   "metadata": {},
   "outputs": [
    {
     "data": {
      "image/png": "[encoded data removed]",
      "text/plain": [
       "<Figure size 640x480 with 1 Axes>"
      ]
     },
     "metadata": {},
     "output_type": "display_data"
    }
   ],
   "source": [
    "# | echo: false\n",
    "# | fig-cap: LLM One-Shot Prompt Score Improvement\n",
    "# | fig-alt: LLM One-Shot Prompt Score Improvement\n",
    "\n",
    "ax = sns.boxplot(x=[x[0] for x in score_improvements])\n",
    "ax.set_xlabel(\"Score Improvement\")\n",
    "ax.set_xlim(left=0.05, right=0.4)\n",
    "sns.despine(offset=10, trim=True);"
   ]
  },
  {
   "cell_type": "code",
   "execution_count": 25,
   "metadata": {},
   "outputs": [],
   "source": [
    "# | echo: false\n",
    "\n",
    "best_index = np.argmax([x[0] for x in score_improvements])\n",
    "best_score_improvement = score_improvements[best_index][0]\n",
    "best_system_prompt_with_example = score_improvements[best_index][1]"
   ]
  },
  {
   "cell_type": "code",
   "execution_count": 26,
   "metadata": {},
   "outputs": [
    {
     "name": "stdout",
     "output_type": "stream",
     "text": [
      "The best score improvement we can obtain using the one-shot prompt and out small train set is: 31.45\n",
      "\n",
      "The system prompt and, by extension, example corresponding to this improvement are:\n",
      "\n",
      "```json\n",
      "You are a helpful assistant that extract information from a user provided email in JSON format that adheres to the following schema:\n",
      "\n",
      "{\n",
      "    \"date\": string,\n",
      "    \"subject\": string,\n",
      "    \"sender\": {\n",
      "        \"name\": string | null,\n",
      "        \"email\": string,\n",
      "        \"phone_number\": string | null,\n",
      "        \"role\": string | null,\n",
      "        \"organization\": string | null\n",
      "    },\n",
      "    \"recipients\": {\n",
      "        \"name\": string | null,\n",
      "        \"email\": string,\n",
      "        \"phone_number\": string | null,\n",
      "        \"role\": string | null,\n",
      "        \"organization\": string | null,\n",
      "        \"to\": enum([\"to\", \"cc\", \"bcc\"])\n",
      "    }[]\n",
      "}\n",
      "\n",
      "Use the following example of raw email and extracted information as reference:\n",
      "\n",
      "# Raw email\n",
      "\n",
      "Message-ID: <7555575.1075857946274.JavaMail.evans@thyme>\n",
      "Date: Mon, 30 Apr 2001 11:17:00 -0700 (PDT)\n",
      "From: cathy@pira.com\n",
      "To: greg@pira.com\n",
      "Subject: PIRA's Special Release Gas Flash: Strong Supply Growth Indicated\n",
      " 04/30/01\n",
      "Mime-Version: 1.0\n",
      "Content-Type: text/plain; charset=us-ascii\n",
      "Content-Transfer-Encoding: 7bit\n",
      "X-From: \"Cathy Lopez\" <cathy@pira.com>\n",
      "X-To: \"PIRA Natural Gas Retainer Client\" <greg@pira.com>\n",
      "X-cc:\n",
      "X-bcc:\n",
      "X-Folder: \\Lawrence_May_Jun2001_1\\Notes Folders\\Notes inbox\n",
      "X-Origin: May-L\n",
      "X-FileName: lmay2.nsf\n",
      "\n",
      "Attached is a PIRA Special Release entitled \"Gas Flash: Strong Supply Growth\n",
      "Indicated.\"\n",
      "\n",
      "If you have any questions regarding the report's content, please contact:\n",
      "Greg Shuttlesworth (email: greg@pira.com), Tom Howard (email:\n",
      "tazh@pira.com), Richard Redash (email: Rich@pira.com), Nobu Tarui (email:\n",
      "nobuo@pira.com) or Jane Hsu (email: jane@pira.com), at (212) 686-6808.\n",
      "\n",
      "Contact John Graziano regarding PIRA report distribution and address changes\n",
      "at (212) 686-6808, email: support@pira.com.\n",
      "\n",
      "NOTE: Circulation of the \"Gas Flash Weekly\" outside a Client's licensed\n",
      "distribution area is strictly prohibited. Clients that are unsure of their\n",
      "licensed distribution or require an extension of their current license\n",
      "should contact their PIRA sales representative, or email to sales@pira.com.\n",
      "\n",
      "PIRA Energy Group\n",
      "\n",
      "\n",
      "\n",
      "\n",
      " - agaspec043001.pdf\n",
      "\n",
      "# Extracted information\n",
      "\n",
      "{\n",
      "  \"date\": \"30.04.2001\",\n",
      "  \"subject\": \"PIRA's Special Release Gas Flash: Strong Supply Growth Indicated 04/30/01\",\n",
      "  \"sender\": {\n",
      "    \"name\": \"Cathy Lopez\",\n",
      "    \"email\": \"cathy@pira.com\",\n",
      "    \"phone_number\": null,\n",
      "    \"role\": null,\n",
      "    \"organization\": \"PIRA Energy Group\"\n",
      "  },\n",
      "  \"recipients\": [\n",
      "    {\n",
      "      \"name\": \"Greg Shuttlesworth\",\n",
      "      \"email\": \"greg@pira.com\",\n",
      "      \"phone_number\": null,\n",
      "      \"role\": null,\n",
      "      \"organization\": \"PIRA Energy Group\",\n",
      "      \"type\": \"to\"\n",
      "    }\n",
      "  ]\n",
      "}\n",
      "\n",
      "```\n",
      "\n"
     ]
    }
   ],
   "source": [
    "# | echo: false\n",
    "# | output: asis\n",
    "\n",
    "print(f\"\"\"The best score improvement we can obtain using the one-shot prompt and out small train set is: {best_score_improvement * 100:.2f}\n",
    "\n",
    "The system prompt and, by extension, example corresponding to this improvement are:\n",
    "\n",
    "```json\n",
    "{best_system_prompt_with_example}\n",
    "```\n",
    "\"\"\")"
   ]
  },
  {
   "cell_type": "code",
   "execution_count": 46,
   "metadata": {},
   "outputs": [
    {
     "data": {
      "application/vnd.jupyter.widget-view+json": {
       "model_id": "39a798a7095a4c1fa75a9853b166b0ba",
       "version_major": 2,
       "version_minor": 0
      },
      "text/plain": [
       "Emails:   0%|          | 0/17 [00:00<?, ?it/s]"
      ]
     },
     "metadata": {},
     "output_type": "display_data"
    }
   ],
   "source": [
    "# | echo: false\n",
    "\n",
    "extracted_information = extract_information_with_llm(\n",
    "    sample_raw_email, system_prompt=best_system_prompt_with_example\n",
    ")\n",
    "few_shot_llm_test_scores = evaluate_extraction(\n",
    "    partial(\n",
    "        extract_information_with_llm, system_prompt=best_system_prompt_with_example\n",
    "    ),\n",
    "    test_set,\n",
    ")"
   ]
  },
  {
   "cell_type": "markdown",
   "metadata": {},
   "source": [
    "Using this method, we extract the following information from the sample test email:"
   ]
  },
  {
   "cell_type": "code",
   "execution_count": 47,
   "metadata": {},
   "outputs": [
    {
     "name": "stdout",
     "output_type": "stream",
     "text": [
      "Sample extracted information with llm one-shot prompt:\n",
      "\n",
      "```json\n",
      "{\n",
      "    \"date\": \"10.05.2001\",\n",
      "    \"subject\": \"FP&L\",\n",
      "    \"sender\": {\n",
      "        \"name\": \"Kam Keiser\",\n",
      "        \"email\": \"kam.keiser@enron.com\",\n",
      "        \"phone_number\": null,\n",
      "        \"role\": null,\n",
      "        \"organization\": \"Enron\"\n",
      "    },\n",
      "    \"recipients\": [\n",
      "        {\n",
      "            \"name\": \"Sabra L Dinari\",\n",
      "            \"email\": \"sabra.dinari@enron.com\",\n",
      "            \"phone_number\": null,\n",
      "            \"role\": null,\n",
      "            \"organization\": \"Enron\",\n",
      "            \"type\": \"to\"\n",
      "        },\n",
      "        {\n",
      "            \"name\": \"Yuan Tian\",\n",
      "            \"email\": \"yuan.tian@enron.com\",\n",
      "            \"phone_number\": null,\n",
      "            \"role\": null,\n",
      "            \"organization\": \"Enron\",\n",
      "            \"type\": \"cc\"\n",
      "        },\n",
      "        {\n",
      "            \"name\": \"Scott Neal\",\n",
      "            \"email\": \"scott.neal@enron.com\",\n",
      "            \"phone_number\": null,\n",
      "            \"role\": null,\n",
      "            \"organization\": \"Enron\",\n",
      "            \"type\": \"cc\"\n",
      "        }\n",
      "    ]\n",
      "}\"\n",
      "```\n",
      "\n"
     ]
    }
   ],
   "source": [
    "# | echo: false\n",
    "# | output: asis\n",
    "\n",
    "print(f\"\"\"Sample extracted information with llm one-shot prompt:\n",
    "\n",
    "```json\n",
    "{extracted_information.model_dump_json(indent=4)}\"\n",
    "```\n",
    "\"\"\")"
   ]
  },
  {
   "cell_type": "markdown",
   "metadata": {},
   "source": [
    "The average score of this second approach on the test set is:"
   ]
  },
  {
   "cell_type": "code",
   "execution_count": 48,
   "metadata": {},
   "outputs": [
    {
     "name": "stdout",
     "output_type": "stream",
     "text": [
      "87.27%\n"
     ]
    }
   ],
   "source": [
    "# | echo: false\n",
    "# | output: asis\n",
    "\n",
    "print(f\"{np.mean(few_shot_llm_test_scores) * 100:.2f}%\")"
   ]
  },
  {
   "cell_type": "code",
   "execution_count": 49,
   "metadata": {},
   "outputs": [
    {
     "data": {
      "image/png": "[encoded data removed]",
      "text/plain": [
       "<Figure size 640x480 with 1 Axes>"
      ]
     },
     "metadata": {},
     "output_type": "display_data"
    }
   ],
   "source": [
    "# | echo: false\n",
    "# | fig-cap: LLM One-Shot Prompt Score\n",
    "# | fig-alt: LLM One-Shot Prompt Score\n",
    "\n",
    "ax = sns.boxplot(x=few_shot_llm_test_scores)\n",
    "ax.set_xlim(left=-0.1, right=1.1)\n",
    "ax.set_xlabel(\"Score\")\n",
    "sns.despine(offset=10, trim=True);"
   ]
  },
  {
   "cell_type": "markdown",
   "metadata": {},
   "source": [
    "## Comparison of the 3 approaches\n",
    "\n",
    "When comparing the scores of the three approaches, it is clear that both the baseline parser and the few-shot approach outperform the zero-shot approach. The few-shot approach is more flexible and generalizes better, which could prove beneficial when scaling to larger datasets."
   ]
  },
  {
   "cell_type": "code",
   "execution_count": 50,
   "metadata": {},
   "outputs": [
    {
     "data": {
      "image/png": "[encoded data removed]",
      "text/plain": [
       "<Figure size 640x480 with 1 Axes>"
      ]
     },
     "metadata": {},
     "output_type": "display_data"
    }
   ],
   "source": [
    "# | echo: false\n",
    "# | fig-cap: LLM One-Shot Prompt Score\n",
    "# | fig-alt: LLM One-Shot Prompt Score\n",
    "\n",
    "df = pd.DataFrame(\n",
    "    {\n",
    "        \"Builtin\": builtin_test_scores,\n",
    "        \"LLM Zero-Shot\": llm_test_scores,\n",
    "        \"LLM One-Shot\": few_shot_llm_test_scores,\n",
    "    }\n",
    ")\n",
    "\n",
    "ax = sns.boxplot(data=df)\n",
    "ax.set_ylim(bottom=-0.1, top=1.1)\n",
    "ax.set_xlabel(\"Approach\")\n",
    "ax.set_ylabel(\"Score\")\n",
    "sns.despine(offset=10, trim=True);"
   ]
  },
  {
   "cell_type": "markdown",
   "metadata": {},
   "source": [
    "# Conclusion\n",
    "\n",
    "In this post, we have seen how a local LLM can be used to extract structured information from emails, provided you have access to the email content and the necessary permissions. We also explored how adding an example to the system prompt (few-shot prompting) can significantly improve the extraction.\n",
    "\n",
    "This post is intended as a demonstration of how structured information extraction can be done with modern LLMs. For real-world applications, however, you would likely face additional constraints, such as more complex datasets, stricter privacy considerations, and the need for larger datasets to improve accuracy and robustness."
   ]
  }
 ],
 "metadata": {
  "kernelspec": {
   "display_name": "llm_information_extraction",
   "language": "python",
   "name": "python3"
  },
  "language_info": {
   "codemirror_mode": {
    "name": "ipython",
    "version": 3
   },
   "file_extension": ".py",
   "mimetype": "text/x-python",
   "name": "python",
   "nbconvert_exporter": "python",
   "pygments_lexer": "ipython3",
   "version": "3.10.14"
  }
 },
 "nbformat": 4,
 "nbformat_minor": 2
}
